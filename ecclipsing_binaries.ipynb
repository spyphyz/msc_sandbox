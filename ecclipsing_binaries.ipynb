{
 "cells": [
  {
   "cell_type": "markdown",
   "metadata": {},
   "source": [
    "# EXOPLANETS AND ECCLIPSING BINARIES\n",
    "## Dr Simon P Young\n",
    "\n",
    "### Abstract\n",
    "\n",
    "A number of confirmed exoplanetary systems exist within the realm of binary star systems. Why chose ecclipsing binaries as targets for exoplanetary research? The prevalence of binary systems that host at least one FGKM star is high. Exoplanets have been confirmed in binary systems - both cirbumbinary planets (CBPs) and planets orbiting an individual star. Exoplanet orbits are more likely to be found in the ecciptic - the ecclipsing binaries are a subpopulation of stars where alignment of planetary transit may be more favourable to Earthly astronomers. The combination of transit observation with astrometry - in particular relative astrometry with its potential for nano-arcsecond precision - can create rich exobody parameter data and system architecture information. Interesting habitable zone (HZ) options arise in binary systems, making exploration of this parameter space in models interesting and inciteful. \n",
    "\n",
    "A catalogue of ecclipsing binaries from GAIA DR3 will be interogated. \n"
   ]
  },
  {
   "cell_type": "code",
   "execution_count": 1,
   "metadata": {},
   "outputs": [],
   "source": [
    "import numpy as np\n",
    "import matplotlib.pyplot as plt\n",
    "import pandas as pd\n",
    "from astroquery.simbad import Simbad\n",
    "import astropy.units as u\n",
    "import astropy.constants as c\n"
   ]
  },
  {
   "cell_type": "code",
   "execution_count": 2,
   "metadata": {},
   "outputs": [
    {
     "name": "stdout",
     "output_type": "stream",
     "text": [
      "The effective temperature of the planet is 255 K\n"
     ]
    }
   ],
   "source": [
    "\"\"\"\n",
    "Effective temperature at surface of an exoplanet.\n",
    "First for a single star (Earth and Sol), then for a circumbinary planet (CBP).\n",
    "\"\"\"\n",
    "\n",
    "tStar = 5778 * u.K  # temp of star\n",
    "rStar = 1 * c.R_sun  # radius of star in units of sun radii\n",
    "a = 1 * c.au  # semimajor axis of planet's orbit around star\n",
    "aB = 0.294 # Bond albedo (0.294 for Earth)\n",
    "\n",
    "tEff = tStar * np.sqrt(rStar / (2 * a)) * (1 - aB)**(1/4)\n",
    "\n",
    "print(f'The effective temperature of the planet is {tEff:.0f}') "
   ]
  },
  {
   "cell_type": "code",
   "execution_count": 3,
   "metadata": {},
   "outputs": [
    {
     "name": "stdout",
     "output_type": "stream",
     "text": [
      "The effective temperature of the planet is 334 K\n"
     ]
    }
   ],
   "source": [
    "\"\"\"\n",
    "Next stage is crudely to add two stars together\n",
    "\"\"\"\n",
    "\n",
    "tStar1 = 5778 * u.K  # temp of G-star\n",
    "rStar1 = 1 * c.R_sun  # radius of star in units of sun radii\n",
    "a1 = 1 * c.au  # semimajor axis of planet's orbit around star\n",
    "\n",
    "tStar2 = 3900 * u.K  # temp of M-dwarf\n",
    "rStar2 = 0.21 * c.R_sun  # radius of star in units of sun radii; in this case for an M-dwarf\n",
    "a2 = 1 * c.au  # semimajor axis of planet's orbit around star\n",
    "\n",
    "aB = 0.294 # Bond albedo (for Earth)\n",
    "\n",
    "tEff = ((tStar1 * np.sqrt(rStar1 / (2 * a1)))+(tStar2 * np.sqrt(rStar2 / (2 * a2)))) * (1 - aB)**(1/4)\n",
    "\n",
    "print(f'The effective temperature of the planet is {tEff:.0f}') "
   ]
  },
  {
   "cell_type": "code",
   "execution_count": 9,
   "metadata": {},
   "outputs": [
    {
     "name": "stderr",
     "output_type": "stream",
     "text": [
      "<>:1: SyntaxWarning: invalid escape sequence '\\F'\n",
      "<>:1: SyntaxWarning: invalid escape sequence '\\F'\n",
      "/var/folders/yh/dfgfv0352h73q219zg7p_hsw0000gn/T/ipykernel_18860/4094198680.py:1: SyntaxWarning: invalid escape sequence '\\F'\n",
      "  \"\"\"\n"
     ]
    },
    {
     "data": {
      "text/plain": [
       "'\\n\\\\First ignore transits of stars or planets. Assume a slightly off-ecliptic orbit of the CPB that \\n\\\\means a constant illumination from both stars throughout the full orbital phase of the planet.\\nThe distance of the planet varies from the stars - \\nso a1 and a2 become functions that change over the course of the circumbinary orbit.\\ntEff thus becomes a function of orbital position of planet in orbit\\nAssume circular orbits (around barycentres) of all bodies in the first approximation. \\ntStar_n and rStar_n are constants. \\nUse basic physics - distance from star falls off as 1/r^2\\n'"
      ]
     },
     "execution_count": 9,
     "metadata": {},
     "output_type": "execute_result"
    }
   ],
   "source": [
    "\"\"\"\n",
    "First ignore transits of stars or planets. Assume a slightly off-ecliptic orbit of the CPB that \n",
    "means a constant illumination from both stars throughout the full orbital phase of the planet.\n",
    "The distance of the planet varies from the stars - \n",
    "so a1 and a2 become functions that change over the course of the circumbinary orbit.\n",
    "tEff thus becomes a function of orbital position of planet in orbit\n",
    "Assume circular orbits (around barycentres) of all bodies in the first approximation. \n",
    "tStar_n and rStar_n are constants. \n",
    "Use basic physics - distance from star falls off as 1/r^2\n",
    "\"\"\"\n",
    "\n"
   ]
  },
  {
   "cell_type": "code",
   "execution_count": 8,
   "metadata": {},
   "outputs": [
    {
     "data": {
      "text/plain": [
       "'Next factor in primary and secondary eclipses of stars with each other.'"
      ]
     },
     "execution_count": 8,
     "metadata": {},
     "output_type": "execute_result"
    }
   ],
   "source": [
    "\"\"\"\n",
    "Next factor in primary and secondary eclipses of stars with each other.\n",
    "\"\"\""
   ]
  },
  {
   "cell_type": "code",
   "execution_count": null,
   "metadata": {},
   "outputs": [],
   "source": [
    "\"\"\"\n",
    "Next I'd get some real parameters for a Kepler system with a CPB...\n",
    "\"\"\""
   ]
  },
  {
   "cell_type": "code",
   "execution_count": null,
   "metadata": {},
   "outputs": [],
   "source": [
    "'''\n",
    "IDEAS\n",
    "A catalogue is important as Vera Rubin will detect these frequently\n",
    "\n",
    "Write a Teff function for a CBP. Depends on phase of planet and binaries. And stellar class and binary separation and planet separation\n",
    "\n",
    "HZ for a CBP\n",
    "\n",
    "Develop a circumbinarity index\n",
    "\n",
    "Circimbinary planets CBP - recent paper and check out all discoveries\n",
    "\n",
    "Coplanarity suggests good targets for transit surveys\n",
    "\n",
    "Gaia recent paper on eclipsing binaries\n",
    "\n",
    "RV signal may be interesting. Mixture of the two stars. Model. With or without CBP\n",
    "\n",
    "Pay attention to spectral classes - is there a census of these yet for binaries in general \n",
    "\n",
    "RELATIVE astrometry GALORE! See Toliman\n",
    "\n",
    "Microlensing or as I’ll rename it NANOLENSING - explore possibilities \n",
    "\n",
    "Transit curve possibilities for these - include full phase of orbits. Albedo. \n",
    "\n",
    "TTVs and TDVs for the planet transit (not moon)\n",
    "\n",
    "Complex orbital dynamics may ensue, e.g. greater eccentiricty and complex orbital resonances - hence astrometery very useful. \n",
    "\n",
    "A complex radiation environment for a planet may ensue, but also a complex magnetoshere environment for a planet may exist proving protection.\n",
    "\n",
    "Use the yin yang symbol:\n",
    "'''"
   ]
  }
 ],
 "metadata": {
  "kernelspec": {
   "display_name": "astro313",
   "language": "python",
   "name": "python3"
  },
  "language_info": {
   "codemirror_mode": {
    "name": "ipython",
    "version": 3
   },
   "file_extension": ".py",
   "mimetype": "text/x-python",
   "name": "python",
   "nbconvert_exporter": "python",
   "pygments_lexer": "ipython3",
   "version": "3.13.0"
  }
 },
 "nbformat": 4,
 "nbformat_minor": 2
}
